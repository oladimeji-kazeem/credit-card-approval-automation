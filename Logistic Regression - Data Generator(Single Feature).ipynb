{
 "cells": [
  {
   "cell_type": "code",
   "execution_count": 1,
   "id": "e9cbeb54",
   "metadata": {},
   "outputs": [],
   "source": [
    "import numpy as np # linear algebra\n",
    "import pandas as pd # data processing, CSV file I/O (e.g. pd.read_csv)\n",
    "import matplotlib.pyplot as plt # MATLAB-like way of plotting\n",
    "\n",
    "# sklearn package for machine learning in python:\n",
    "from sklearn.model_selection import train_test_split \n",
    "from sklearn.linear_model import LogisticRegression\n",
    "from sklearn.datasets import make_classification"
   ]
  },
  {
   "cell_type": "code",
   "execution_count": 17,
   "id": "fe404aad",
   "metadata": {},
   "outputs": [],
   "source": [
    "X, y = make_classification(n_samples = 150, n_features = 1, n_redundant = 0, n_informative = 1, n_classes = 2, \n",
    "                           n_clusters_per_class = 1, flip_y = 0.1, random_state = 0)"
   ]
  },
  {
   "cell_type": "code",
   "execution_count": 18,
   "id": "c4a132a6",
   "metadata": {},
   "outputs": [
    {
     "data": {
      "text/plain": [
       "LogisticRegression()"
      ]
     },
     "execution_count": 18,
     "metadata": {},
     "output_type": "execute_result"
    }
   ],
   "source": [
    "logre = LogisticRegression()\n",
    "logre.fit(X, y)"
   ]
  },
  {
   "cell_type": "code",
   "execution_count": 19,
   "id": "f4aa27e5",
   "metadata": {},
   "outputs": [
    {
     "name": "stdout",
     "output_type": "stream",
     "text": [
      "Prediction: [1]\n"
     ]
    }
   ],
   "source": [
    "y_pred = logre.predict([[3]])\n",
    "print('Prediction:', y_pred)"
   ]
  },
  {
   "cell_type": "code",
   "execution_count": 20,
   "id": "0ad66fcf",
   "metadata": {},
   "outputs": [
    {
     "name": "stdout",
     "output_type": "stream",
     "text": [
      "Number of mislabelled points out a total of 150 point: 19\n"
     ]
    }
   ],
   "source": [
    "print('Number of mislabelled points out a total of %d point: %d' % (X.shape[0], (y != logre.predict(X)).sum()))"
   ]
  },
  {
   "cell_type": "code",
   "execution_count": 21,
   "id": "b56bee15",
   "metadata": {},
   "outputs": [
    {
     "name": "stdout",
     "output_type": "stream",
     "text": [
      "Our accuracy is 0.87:\n"
     ]
    }
   ],
   "source": [
    "print('Our accuracy is %.2f:' % logre.score(X,y))"
   ]
  },
  {
   "cell_type": "code",
   "execution_count": 22,
   "id": "ac609a09",
   "metadata": {},
   "outputs": [
    {
     "data": {
      "text/plain": [
       "Text(0, 0.5, 'y')"
      ]
     },
     "execution_count": 22,
     "metadata": {},
     "output_type": "execute_result"
    },
    {
     "data": {
      "image/png": "[encoded data removed]",
      "text/plain": [
       "<Figure size 432x288 with 1 Axes>"
      ]
     },
     "metadata": {
      "needs_background": "light"
     },
     "output_type": "display_data"
    }
   ],
   "source": [
    "fig1, ax1 = plt.subplots()\n",
    "\n",
    "ax1.scatter(X, y, color = 'blue')\n",
    "ax1.scatter(X, logre.predict(X), color = 'red', marker = '*')\n",
    "\n",
    "ax1.scatter(X, logre.predict_proba(X)[:, 1], color = 'green', marker = '*')\n",
    "\n",
    "ax1.set_xlabel('X')\n",
    "ax1.set_ylabel('y')"
   ]
  },
  {
   "cell_type": "code",
   "execution_count": null,
   "id": "5c6727cf",
   "metadata": {},
   "outputs": [],
   "source": []
  }
 ],
 "metadata": {
  "kernelspec": {
   "display_name": "Python 3",
   "language": "python",
   "name": "python3"
  },
  "language_info": {
   "codemirror_mode": {
    "name": "ipython",
    "version": 3
   },
   "file_extension": ".py",
   "mimetype": "text/x-python",
   "name": "python",
   "nbconvert_exporter": "python",
   "pygments_lexer": "ipython3",
   "version": "3.8.8"
  }
 },
 "nbformat": 4,
 "nbformat_minor": 5
}
