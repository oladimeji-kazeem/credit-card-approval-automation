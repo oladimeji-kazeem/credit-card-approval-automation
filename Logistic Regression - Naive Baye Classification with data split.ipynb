{
 "cells": [
  {
   "cell_type": "markdown",
   "id": "8a8c97db",
   "metadata": {},
   "source": [
    "## Exercise"
   ]
  },
  {
   "attachments": {},
   "cell_type": "markdown",
   "id": "6e31858f",
   "metadata": {},
   "source": [
    "Let’s now apply Gaussian Naive Bayes to the data set below using the GaussianNB function in python. The next example generates data using the make_classification function"
   ]
  },
  {
   "cell_type": "code",
   "execution_count": 2,
   "id": "33ed3a66",
   "metadata": {},
   "outputs": [],
   "source": [
    "import numpy as np # linear algebra\n",
    "import pandas as pd # data processing, CSV file I/O (e.g. pd.read_csv)\n",
    "import matplotlib.pyplot as plt # MATLAB-like way of plotting\n",
    "\n",
    "# sklearn package for machine learning in python:\n",
    "from sklearn.model_selection import train_test_split \n",
    "from sklearn.naive_bayes import GaussianNB\n",
    "from sklearn.datasets import make_classification"
   ]
  },
  {
   "cell_type": "code",
   "execution_count": 9,
   "id": "d8108196",
   "metadata": {},
   "outputs": [],
   "source": [
    "# Generate sample data\n",
    "X, y = make_classification(n_samples = 150, n_features = 1, n_redundant = 0, n_informative = 1, n_classes = 2, \n",
    "                           n_clusters_per_class = 1, flip_y = 0.05, random_state = 0)"
   ]
  },
  {
   "cell_type": "code",
   "execution_count": 10,
   "id": "11af0732",
   "metadata": {},
   "outputs": [
    {
     "data": {
      "text/plain": [
       "GaussianNB()"
      ]
     },
     "execution_count": 10,
     "metadata": {},
     "output_type": "execute_result"
    }
   ],
   "source": [
    "gnb = GaussianNB()\n",
    "gnb.fit(X, y)"
   ]
  },
  {
   "cell_type": "code",
   "execution_count": 14,
   "id": "41734d70",
   "metadata": {},
   "outputs": [],
   "source": [
    "X_train, X_test, y_train, y_test = train_test_split(X, y, test_size = 1/3, random_state = 0)"
   ]
  },
  {
   "cell_type": "code",
   "execution_count": 11,
   "id": "76c1c9d0",
   "metadata": {},
   "outputs": [
    {
     "name": "stdout",
     "output_type": "stream",
     "text": [
      "Predict a value %d: [1]\n"
     ]
    }
   ],
   "source": [
    "print('Predict a value %d:', gnb.predict([[1.5]]))"
   ]
  },
  {
   "cell_type": "code",
   "execution_count": 12,
   "id": "56ed2797",
   "metadata": {},
   "outputs": [
    {
     "data": {
      "text/plain": [
       "Text(0, 0.5, 'y')"
      ]
     },
     "execution_count": 12,
     "metadata": {},
     "output_type": "execute_result"
    },
    {
     "data": {
      "image/png": "[encoded data removed]",
      "text/plain": [
       "<Figure size 432x288 with 1 Axes>"
      ]
     },
     "metadata": {
      "needs_background": "light"
     },
     "output_type": "display_data"
    }
   ],
   "source": [
    "fig1, ax1 = plt.subplots()\n",
    "\n",
    "ax1.scatter(X, y, color = 'blue')\n",
    "ax1.scatter(X, gnb.predict(X), color = 'red', marker = '*')\n",
    "\n",
    "ax1.scatter(X, gnb.predict_proba(X)[:, 1], color = 'green', marker = '*')\n",
    "\n",
    "ax1.set_xlabel('X')\n",
    "ax1.set_ylabel('y')"
   ]
  },
  {
   "cell_type": "code",
   "execution_count": 15,
   "id": "20a774e6",
   "metadata": {},
   "outputs": [
    {
     "name": "stdout",
     "output_type": "stream",
     "text": [
      "Number of mislabeked points out of a total of 50 points: 7\n"
     ]
    }
   ],
   "source": [
    "print('Number of mislabeked points out of a total of %d points: %d' % (X_test.shape[0], (y_test != gnb.predict(X_test)).sum()))"
   ]
  },
  {
   "cell_type": "code",
   "execution_count": 16,
   "id": "291a86aa",
   "metadata": {},
   "outputs": [
    {
     "name": "stdout",
     "output_type": "stream",
     "text": [
      "Our Accuracy is 0.91\n"
     ]
    }
   ],
   "source": [
    "print('Our Accuracy is %.2f' % gnb.score(X, y))"
   ]
  },
  {
   "cell_type": "code",
   "execution_count": null,
   "id": "2db891ae",
   "metadata": {},
   "outputs": [],
   "source": []
  }
 ],
 "metadata": {
  "kernelspec": {
   "display_name": "Python 3",
   "language": "python",
   "name": "python3"
  },
  "language_info": {
   "codemirror_mode": {
    "name": "ipython",
    "version": 3
   },
   "file_extension": ".py",
   "mimetype": "text/x-python",
   "name": "python",
   "nbconvert_exporter": "python",
   "pygments_lexer": "ipython3",
   "version": "3.8.8"
  }
 },
 "nbformat": 4,
 "nbformat_minor": 5
}
