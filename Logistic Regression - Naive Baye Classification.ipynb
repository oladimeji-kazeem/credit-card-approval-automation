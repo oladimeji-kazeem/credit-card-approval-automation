{
 "cells": [
  {
   "cell_type": "markdown",
   "id": "8a8c97db",
   "metadata": {},
   "source": [
    "## Exercise"
   ]
  },
  {
   "attachments": {
    "ex2_2.PNG": {
     "image/png": "[encoded data removed]"
    }
   },
   "cell_type": "markdown",
   "id": "6e31858f",
   "metadata": {},
   "source": [
    "Let’s now apply Gaussian Naive Bayes to the data set below using the GaussianNB function in python. This data set contains two input variables and one class variable which has two possible values y = 0 and y = 1\n",
    "![ex2_2.PNG](attachment:ex2_2.PNG)"
   ]
  },
  {
   "cell_type": "code",
   "execution_count": 4,
   "id": "33ed3a66",
   "metadata": {},
   "outputs": [],
   "source": [
    "import numpy as np # linear algebra\n",
    "import pandas as pd # data processing, CSV file I/O (e.g. pd.read_csv)\n",
    "import matplotlib.pyplot as plt # MATLAB-like way of plotting\n",
    "\n",
    "# sklearn package for machine learning in python:\n",
    "from sklearn.model_selection import train_test_split \n",
    "from sklearn.naive_bayes import GaussianNB\n",
    "from sklearn.datasets import make_classification"
   ]
  },
  {
   "cell_type": "code",
   "execution_count": 5,
   "id": "d8108196",
   "metadata": {},
   "outputs": [],
   "source": [
    "# Logistic Regression example:\n",
    "X = np.array([[-1, -1], [-2, -1], [-3, -2], [1, 1], [2, 1], [3, 2]])\n",
    "y = np.array([0, 0, 0, 1, 1, 1])"
   ]
  },
  {
   "cell_type": "code",
   "execution_count": 6,
   "id": "11af0732",
   "metadata": {},
   "outputs": [
    {
     "data": {
      "text/plain": [
       "GaussianNB()"
      ]
     },
     "execution_count": 6,
     "metadata": {},
     "output_type": "execute_result"
    }
   ],
   "source": [
    "gnb = GaussianNB()\n",
    "gnb.fit(X, y)"
   ]
  },
  {
   "cell_type": "code",
   "execution_count": 13,
   "id": "76c1c9d0",
   "metadata": {},
   "outputs": [
    {
     "name": "stdout",
     "output_type": "stream",
     "text": [
      "Predict a value %d: [1]\n"
     ]
    }
   ],
   "source": [
    "print('Predict a value %d:', gnb.predict([[1.5]]))"
   ]
  },
  {
   "cell_type": "code",
   "execution_count": null,
   "id": "56ed2797",
   "metadata": {},
   "outputs": [],
   "source": []
  }
 ],
 "metadata": {
  "kernelspec": {
   "display_name": "Python 3",
   "language": "python",
   "name": "python3"
  },
  "language_info": {
   "codemirror_mode": {
    "name": "ipython",
    "version": 3
   },
   "file_extension": ".py",
   "mimetype": "text/x-python",
   "name": "python",
   "nbconvert_exporter": "python",
   "pygments_lexer": "ipython3",
   "version": "3.8.8"
  }
 },
 "nbformat": 4,
 "nbformat_minor": 5
}
